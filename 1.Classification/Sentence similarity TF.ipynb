{
 "cells": [
  {
   "cell_type": "code",
   "execution_count": 1,
   "metadata": {},
   "outputs": [],
   "source": [
    "import pandas as pd\n",
    "import numpy as np\n",
    "import tensorflow as tf\n",
    "from sklearn.model_selection import train_test_split\n",
    "import seaborn as sns\n",
    "import matplotlib.pyplot as plt\n",
    "import warnings\n",
    "warnings.filterwarnings('ignore')"
   ]
  },
  {
   "cell_type": "markdown",
   "metadata": {},
   "source": [
    "# Data prep"
   ]
  },
  {
   "cell_type": "code",
   "execution_count": 48,
   "metadata": {},
   "outputs": [],
   "source": [
    "data = pd.read_csv(\"../0.Data/questions.csv\")\n",
    "data = data.iloc[:,3:]\n",
    "data['question1'] = data['question1'].apply(lambda x: str(x))\n",
    "data['question2'] = data['question2'].apply(lambda x: str(x))\n",
    "\n",
    "sents = data['question1'].values.tolist()\n",
    "sents.extend(data['question2'].values.tolist())\n",
    "\n",
    "tokenizer = tf.keras.preprocessing.text.Tokenizer()\n",
    "tokenizer.fit_on_texts(sents)\n",
    "data['q1_tokenized'] = tokenizer.texts_to_sequences(data['question1'])\n",
    "data['q2_tokenized'] = tokenizer.texts_to_sequences(data['question2'])\n"
   ]
  },
  {
   "cell_type": "code",
   "execution_count": 3,
   "metadata": {},
   "outputs": [
    {
     "name": "stdout",
     "output_type": "stream",
     "text": [
      "Max lenth of sequences chosen:  75\n"
     ]
    },
    {
     "data": {
      "image/png": "[encoded data removed]",
      "text/plain": [
       "<Figure size 432x288 with 1 Axes>"
      ]
     },
     "metadata": {
      "needs_background": "light"
     },
     "output_type": "display_data"
    }
   ],
   "source": [
    "plt.axvline(50, c='red')\n",
    "plt.axvline(75, c='blue')\n",
    "sns.countplot(pd.Series([len(x) for x in sents]))\n",
    "MAX_LEN = 75\n",
    "print(\"Max lenth of sequences chosen: \", MAX_LEN)"
   ]
  },
  {
   "cell_type": "code",
   "execution_count": 27,
   "metadata": {},
   "outputs": [],
   "source": [
    "def pad_sequences(text):\n",
    "\n",
    "    if len(text) <= MAX_LEN:\n",
    "        text.extend([0]*(MAX_LEN - len(text)))\n",
    "    else:\n",
    "        text = text[:MAX_LEN]\n",
    "\n",
    "    return text"
   ]
  },
  {
   "cell_type": "code",
   "execution_count": 49,
   "metadata": {},
   "outputs": [],
   "source": [
    "data['q1_tokenized'] = data['q1_tokenized'].apply(pad_sequences)\n",
    "data['q2_tokenized'] = data['q2_tokenized'].apply(pad_sequences)"
   ]
  },
  {
   "cell_type": "code",
   "execution_count": 60,
   "metadata": {},
   "outputs": [
    {
     "data": {
      "text/plain": [
       "(2, 404351, 75)"
      ]
     },
     "execution_count": 60,
     "metadata": {},
     "output_type": "execute_result"
    }
   ],
   "source": [
    "tokenized_data = np.array([np.stack(data['q1_tokenized']), np.stack(data['q1_tokenized'])])\n",
    "tokenized_data = tokenized_data.swapaxes(0,1)"
   ]
  },
  {
   "cell_type": "code",
   "execution_count": 71,
   "metadata": {},
   "outputs": [],
   "source": [
    "X_train, X_test, y_train, y_test = train_test_split(tokenized_data, data['is_duplicate'], stratify=data['is_duplicate'], random_state=42, test_size=0.1)\n",
    "X_train, X_val, y_train, y_val = train_test_split(X_train, y_train, random_state=42, test_size=0.1, stratify=y_train)"
   ]
  },
  {
   "cell_type": "code",
   "execution_count": 76,
   "metadata": {},
   "outputs": [],
   "source": [
    "y_train = y_train.values.reshape(-1,1)\n",
    "y_val = y_val.values.reshape(-1,1)\n",
    "y_test = y_test.values.reshape(-1,1)"
   ]
  },
  {
   "cell_type": "code",
   "execution_count": 77,
   "metadata": {},
   "outputs": [],
   "source": [
    "trainset = tf.data.Dataset.from_tensor_slices((X_train,y_train)).batch(batch_size=64).shuffle(buffer_size=5)\n",
    "validationset = tf.data.Dataset.from_tensor_slices((X_val,y_val)).batch(batch_size=64)\n",
    "testset = tf.data.Dataset.from_tensor_slices((X_train,y_train)).batch(batch_size=64)"
   ]
  },
  {
   "cell_type": "markdown",
   "metadata": {},
   "source": [
    "# Model"
   ]
  },
  {
   "cell_type": "code",
   "execution_count": null,
   "metadata": {},
   "outputs": [],
   "source": [
    "model = tf.keras.Sequential(\n",
    "    [\n",
    "        tf.keras.layers.TextVectorization(output_sequence_length = 64, max_tokens=10000),\n",
    "        tf.keras.layers.Embedding(input_dim = 100000, output_dim = 64),\n",
    "        tf.keras.layers.Bidirectional(tf.keras.layers.LSTM(32)),\n",
    "        tf.keras.layers.Dense(64, activation = 'leaky_relu'),\n",
    "        tf.keras.layers.Dense(128, activation = 'leaky_relu'),\n",
    "        tf.keras.layers.Dropout(0.2),\n",
    "        tf.keras.layers.Dense(32, activation = 'leaky_relu'),\n",
    "        tf.keras.layers.Dense(1, activation = 'leaky_relu'),\n",
    "    ]\n",
    ")"
   ]
  },
  {
   "cell_type": "code",
   "execution_count": null,
   "metadata": {},
   "outputs": [],
   "source": [
    "model.compile(\n",
    "    optimizer = tf.keras.optimizers.RMSprop(learning_rate=1e-4),\n",
    "    metrics = 'accuracy',\n",
    "    loss = tf.keras.losses.BinaryCrossentropy()\n",
    ")"
   ]
  },
  {
   "cell_type": "code",
   "execution_count": null,
   "metadata": {},
   "outputs": [
    {
     "name": "stdout",
     "output_type": "stream",
     "text": [
      "Epoch 1/10\n"
     ]
    },
    {
     "ename": "RuntimeError",
     "evalue": "in user code:\n\n    File \"/opt/homebrew/Caskroom/miniforge/base/envs/tensorflow_env/lib/python3.9/site-packages/keras/engine/training.py\", line 878, in train_function  *\n        return step_function(self, iterator)\n    File \"/opt/homebrew/Caskroom/miniforge/base/envs/tensorflow_env/lib/python3.9/site-packages/keras/engine/training.py\", line 867, in step_function  **\n        outputs = model.distribute_strategy.run(run_step, args=(data,))\n    File \"/opt/homebrew/Caskroom/miniforge/base/envs/tensorflow_env/lib/python3.9/site-packages/keras/engine/training.py\", line 860, in run_step  **\n        outputs = model.train_step(data)\n    File \"/opt/homebrew/Caskroom/miniforge/base/envs/tensorflow_env/lib/python3.9/site-packages/keras/engine/training.py\", line 808, in train_step\n        y_pred = self(x, training=True)\n    File \"/opt/homebrew/Caskroom/miniforge/base/envs/tensorflow_env/lib/python3.9/site-packages/keras/utils/traceback_utils.py\", line 67, in error_handler\n        raise e.with_traceback(filtered_tb) from None\n    File \"/opt/homebrew/Caskroom/miniforge/base/envs/tensorflow_env/lib/python3.9/site-packages/keras/layers/preprocessing/text_vectorization.py\", line 446, in build\n        raise RuntimeError(\n\n    RuntimeError: Exception encountered when calling layer \"sequential_2\" (type Sequential).\n    \n    When using TextVectorization to tokenize strings, the innermost dimension of the input array must be 1, got shape (None, 2)\n    \n    Call arguments received:\n      • inputs=tf.Tensor(shape=(None, 2), dtype=string)\n      • training=True\n      • mask=None\n",
     "output_type": "error",
     "traceback": [
      "\u001b[0;31m---------------------------------------------------------------------------\u001b[0m",
      "\u001b[0;31mRuntimeError\u001b[0m                              Traceback (most recent call last)",
      "\u001b[0;32m/var/folders/k5/l531tc5j2070y5w0jlhbhfcw0000gn/T/ipykernel_14767/2545463946.py\u001b[0m in \u001b[0;36m<module>\u001b[0;34m\u001b[0m\n\u001b[0;32m----> 1\u001b[0;31m model.fit(trainset,\n\u001b[0m\u001b[1;32m      2\u001b[0m \u001b[0mepochs\u001b[0m\u001b[0;34m=\u001b[0m\u001b[0;36m10\u001b[0m\u001b[0;34m,\u001b[0m\u001b[0;34m\u001b[0m\u001b[0;34m\u001b[0m\u001b[0m\n\u001b[1;32m      3\u001b[0m \u001b[0mvalidation_data\u001b[0m \u001b[0;34m=\u001b[0m \u001b[0mvalidationset\u001b[0m\u001b[0;34m,\u001b[0m\u001b[0;34m\u001b[0m\u001b[0;34m\u001b[0m\u001b[0m\n\u001b[1;32m      4\u001b[0m \u001b[0mcallbacks\u001b[0m \u001b[0;34m=\u001b[0m \u001b[0;34m[\u001b[0m\u001b[0mtf\u001b[0m\u001b[0;34m.\u001b[0m\u001b[0mkeras\u001b[0m\u001b[0;34m.\u001b[0m\u001b[0mcallbacks\u001b[0m\u001b[0;34m.\u001b[0m\u001b[0mEarlyStopping\u001b[0m\u001b[0;34m(\u001b[0m\u001b[0mpatience\u001b[0m\u001b[0;34m=\u001b[0m\u001b[0;36m5\u001b[0m\u001b[0;34m,\u001b[0m \u001b[0mmonitor\u001b[0m\u001b[0;34m=\u001b[0m\u001b[0;34m'val_loss'\u001b[0m\u001b[0;34m)\u001b[0m\u001b[0;34m]\u001b[0m\u001b[0;34m\u001b[0m\u001b[0;34m\u001b[0m\u001b[0m\n\u001b[1;32m      5\u001b[0m )\n",
      "\u001b[0;32m/opt/homebrew/Caskroom/miniforge/base/envs/tensorflow_env/lib/python3.9/site-packages/keras/utils/traceback_utils.py\u001b[0m in \u001b[0;36merror_handler\u001b[0;34m(*args, **kwargs)\u001b[0m\n\u001b[1;32m     65\u001b[0m     \u001b[0;32mexcept\u001b[0m \u001b[0mException\u001b[0m \u001b[0;32mas\u001b[0m \u001b[0me\u001b[0m\u001b[0;34m:\u001b[0m  \u001b[0;31m# pylint: disable=broad-except\u001b[0m\u001b[0;34m\u001b[0m\u001b[0;34m\u001b[0m\u001b[0m\n\u001b[1;32m     66\u001b[0m       \u001b[0mfiltered_tb\u001b[0m \u001b[0;34m=\u001b[0m \u001b[0m_process_traceback_frames\u001b[0m\u001b[0;34m(\u001b[0m\u001b[0me\u001b[0m\u001b[0;34m.\u001b[0m\u001b[0m__traceback__\u001b[0m\u001b[0;34m)\u001b[0m\u001b[0;34m\u001b[0m\u001b[0;34m\u001b[0m\u001b[0m\n\u001b[0;32m---> 67\u001b[0;31m       \u001b[0;32mraise\u001b[0m \u001b[0me\u001b[0m\u001b[0;34m.\u001b[0m\u001b[0mwith_traceback\u001b[0m\u001b[0;34m(\u001b[0m\u001b[0mfiltered_tb\u001b[0m\u001b[0;34m)\u001b[0m \u001b[0;32mfrom\u001b[0m \u001b[0;32mNone\u001b[0m\u001b[0;34m\u001b[0m\u001b[0;34m\u001b[0m\u001b[0m\n\u001b[0m\u001b[1;32m     68\u001b[0m     \u001b[0;32mfinally\u001b[0m\u001b[0;34m:\u001b[0m\u001b[0;34m\u001b[0m\u001b[0;34m\u001b[0m\u001b[0m\n\u001b[1;32m     69\u001b[0m       \u001b[0;32mdel\u001b[0m \u001b[0mfiltered_tb\u001b[0m\u001b[0;34m\u001b[0m\u001b[0;34m\u001b[0m\u001b[0m\n",
      "\u001b[0;32m/opt/homebrew/Caskroom/miniforge/base/envs/tensorflow_env/lib/python3.9/site-packages/tensorflow/python/framework/func_graph.py\u001b[0m in \u001b[0;36mautograph_handler\u001b[0;34m(*args, **kwargs)\u001b[0m\n\u001b[1;32m   1127\u001b[0m           \u001b[0;32mexcept\u001b[0m \u001b[0mException\u001b[0m \u001b[0;32mas\u001b[0m \u001b[0me\u001b[0m\u001b[0;34m:\u001b[0m  \u001b[0;31m# pylint:disable=broad-except\u001b[0m\u001b[0;34m\u001b[0m\u001b[0;34m\u001b[0m\u001b[0m\n\u001b[1;32m   1128\u001b[0m             \u001b[0;32mif\u001b[0m \u001b[0mhasattr\u001b[0m\u001b[0;34m(\u001b[0m\u001b[0me\u001b[0m\u001b[0;34m,\u001b[0m \u001b[0;34m\"ag_error_metadata\"\u001b[0m\u001b[0;34m)\u001b[0m\u001b[0;34m:\u001b[0m\u001b[0;34m\u001b[0m\u001b[0;34m\u001b[0m\u001b[0m\n\u001b[0;32m-> 1129\u001b[0;31m               \u001b[0;32mraise\u001b[0m \u001b[0me\u001b[0m\u001b[0;34m.\u001b[0m\u001b[0mag_error_metadata\u001b[0m\u001b[0;34m.\u001b[0m\u001b[0mto_exception\u001b[0m\u001b[0;34m(\u001b[0m\u001b[0me\u001b[0m\u001b[0;34m)\u001b[0m\u001b[0;34m\u001b[0m\u001b[0;34m\u001b[0m\u001b[0m\n\u001b[0m\u001b[1;32m   1130\u001b[0m             \u001b[0;32melse\u001b[0m\u001b[0;34m:\u001b[0m\u001b[0;34m\u001b[0m\u001b[0;34m\u001b[0m\u001b[0m\n\u001b[1;32m   1131\u001b[0m               \u001b[0;32mraise\u001b[0m\u001b[0;34m\u001b[0m\u001b[0;34m\u001b[0m\u001b[0m\n",
      "\u001b[0;31mRuntimeError\u001b[0m: in user code:\n\n    File \"/opt/homebrew/Caskroom/miniforge/base/envs/tensorflow_env/lib/python3.9/site-packages/keras/engine/training.py\", line 878, in train_function  *\n        return step_function(self, iterator)\n    File \"/opt/homebrew/Caskroom/miniforge/base/envs/tensorflow_env/lib/python3.9/site-packages/keras/engine/training.py\", line 867, in step_function  **\n        outputs = model.distribute_strategy.run(run_step, args=(data,))\n    File \"/opt/homebrew/Caskroom/miniforge/base/envs/tensorflow_env/lib/python3.9/site-packages/keras/engine/training.py\", line 860, in run_step  **\n        outputs = model.train_step(data)\n    File \"/opt/homebrew/Caskroom/miniforge/base/envs/tensorflow_env/lib/python3.9/site-packages/keras/engine/training.py\", line 808, in train_step\n        y_pred = self(x, training=True)\n    File \"/opt/homebrew/Caskroom/miniforge/base/envs/tensorflow_env/lib/python3.9/site-packages/keras/utils/traceback_utils.py\", line 67, in error_handler\n        raise e.with_traceback(filtered_tb) from None\n    File \"/opt/homebrew/Caskroom/miniforge/base/envs/tensorflow_env/lib/python3.9/site-packages/keras/layers/preprocessing/text_vectorization.py\", line 446, in build\n        raise RuntimeError(\n\n    RuntimeError: Exception encountered when calling layer \"sequential_2\" (type Sequential).\n    \n    When using TextVectorization to tokenize strings, the innermost dimension of the input array must be 1, got shape (None, 2)\n    \n    Call arguments received:\n      • inputs=tf.Tensor(shape=(None, 2), dtype=string)\n      • training=True\n      • mask=None\n"
     ]
    }
   ],
   "source": [
    "model.fit(trainset,\n",
    "epochs=10,\n",
    "validation_data = validationset,\n",
    "callbacks = [tf.keras.callbacks.EarlyStopping(patience=5, monitor='val_loss')]\n",
    ")"
   ]
  },
  {
   "cell_type": "code",
   "execution_count": null,
   "metadata": {},
   "outputs": [
    {
     "data": {
      "text/plain": [
       "(<tf.Tensor: shape=(64, 2), dtype=string, numpy=\n",
       " array([[b'How one should prepare for getting admission in FMS Delhi?',\n",
       "         b'Does FMS [Faculty of Management Studies, New Delhi] accept only the CAT or the GMAT for admission into its MBA course?'],\n",
       "        [b'Is there any harm in not masturbating?',\n",
       "         b'Is there any harm in masturbating?'],\n",
       "        [b'Does Donald Trump still have a chance of winning? (October 15, 2016)',\n",
       "         b'Does Donald Trump have any chance of winning the forthcoming election?'],\n",
       "        [b'What are the places to visit in Chennai?',\n",
       "         b'What is a good place to visit in Chennai with your lover?'],\n",
       "        [b'How can I become taller at 19?',\n",
       "         b'How can I become taller at 18?'],\n",
       "        [b'How can I view deleted Instagram dms?',\n",
       "         b'How can I delete cache for Instagram?'],\n",
       "        [b\"Me and my boyfriend are breaking up cause we don't have future, should I move on or wait for him to come back resolving his problems What should I do?\",\n",
       "         b'Which is the best current affairs magazine to follow for the bank PO exams?'],\n",
       "        [b'What is the best computer course after 12th commerce to make career in that field?',\n",
       "         b'What are the best institutes for computer courses after 12th?'],\n",
       "        [b'What content do people want to see in articles and on what topics?',\n",
       "         b'I want to start a Blog on sexual relationship tips and advice but it is illegal in India and Adsense never allows adult content so what to do?'],\n",
       "        [b'What is the difference between Systems Engineering and Industrial Engineering?',\n",
       "         b'What is better - engineering or medical?'],\n",
       "        [b'How do I increase my stamina in the gym?',\n",
       "         b'How should I increase the stamina?'],\n",
       "        [b\"I'm single, unemployed, broke, in debt, living with my parents, about to turn 40, friendless, depressed, and miserable. I don't know what to do with my life. How can I possibly turn it around?\",\n",
       "         b\"I don't know how I\\xe2\\x80\\x99m supposed to live my life?\"],\n",
       "        [b'How can I get better at building in Minecraft? Other than using Grian.',\n",
       "         b'Is Pikachu a better starter than the three others?'],\n",
       "        [b'What is difference between \"any more\" and anymore\"?',\n",
       "         b'What is the difference between no more and anymore?'],\n",
       "        [b'What is the best way to remove adware on a PC?',\n",
       "         b'What are some ways to remove adware programs?'],\n",
       "        [b'What are the best mobile phone gadgets?',\n",
       "         b'What is the best mobile phone website?'],\n",
       "        [b\"What is greater than God, more evil than the devil; the poor have it, the rich need it, and if you eat it, you'll die?\",\n",
       "         b'What is \"what is greater than God, more evil than the devil, the poor have it, the rich don\\'t need it and if you eat it, you\\'ll die\"?'],\n",
       "        [b'Who was Charles Darwin? What were some of his theories?',\n",
       "         b'Who was Charles Darwin? What were some of his discoveries?'],\n",
       "        [b'What is the use of numerical ability test in career?',\n",
       "         b'How can use the Numerical Ability test in career?'],\n",
       "        [b'Is it bad to eat sugar while sick?',\n",
       "         b'How can someone feel sick after consuming sugar?'],\n",
       "        [b'We are supplier of high Quality Methylone, Ethylone 4mmc and different products of very good quality and competitive prices.makenchemstore@Gmail.com?',\n",
       "         b'How many people (students and IT people) move in/out of bangalore everyday?'],\n",
       "        [b'How do I unlock Huawei Airtel 3G dongle to accept any SIM?',\n",
       "         b'At what frequency does Airtel 3G work?'],\n",
       "        [b'What is the cancellation fee for Geico auto insurance if I terminate my policy early?',\n",
       "         b'Has your auto insurance premium gone up?'],\n",
       "        [b'How many hours do you spend in meeting?',\n",
       "         b'How many hours do you spend on programming?'],\n",
       "        [b'What should I do to become the CEO of Quora?',\n",
       "         b'How do I become the CEO of Quora?'],\n",
       "        [b'What is your favorite Halloween video?',\n",
       "         b'What are your 3 favorite Halloween movies?'],\n",
       "        [b'Does green dot next to the phone icon on messenger mean person is on a call?',\n",
       "         b'What does the green dot beside the phone icon on messenger app mean?'],\n",
       "        [b'How do I earn money online?',\n",
       "         b'How do you make easy money online?'],\n",
       "        [b'How do I learn Kannada faster?',\n",
       "         b'How can I learn kannada faster?'],\n",
       "        [b'What Indian food do Germans like?',\n",
       "         b'Why is Indian food so different?'],\n",
       "        [b\"When I connect to my Internet router through wireless, it says limited access and I can't connect to the Internet. How do I fix this?\",\n",
       "         b'My laptop is showing limited Internet access over my home WiFi connection. What should I do?'],\n",
       "        [b'What is the best fairness cream for men in India?',\n",
       "         b'What are the best fairness creams for men in India?'],\n",
       "        [b'What is the source of income for the person who runs mo vlogs and what is his real name?',\n",
       "         b'What are crazy Ideas to start Vlogging?'],\n",
       "        [b'What did Shakespeare mean by \"I must be cruel, only to be kind\"?',\n",
       "         b'Was William Shakespeare Catholic?'],\n",
       "        [b'How does garlic help you lose weight?',\n",
       "         b'Does a juicing diet help you lose weight?'],\n",
       "        [b'How can I easily pass the MB6-870 exam?',\n",
       "         b'How can I easily pass the JN0-370 exam?'],\n",
       "        [b'Why do I have nightmares?', b'Do you have nightmares?'],\n",
       "        [b'How does polymorphism work in OOP?', b'How not to use OOP?'],\n",
       "        [b'What are some hot topics for campus selection group discussions this year?',\n",
       "         b'What are some hot topics for campus selection group discussion?'],\n",
       "        [b'Is there any site for free downloading of surgical ebooks?',\n",
       "         b'What is a good website for free books?'],\n",
       "        [b'Can you get your penis bigger?',\n",
       "         b'How can I make my penis thicker?'],\n",
       "        [b'Which is better, Snapdragon 625 or Snapdragon 650?',\n",
       "         b'Snapdragon 617 vs Snapdragon 650 which is better?'],\n",
       "        [b'How many Facebook pages do exist?',\n",
       "         b'How many Facebook pages are there in the world?'],\n",
       "        [b'Will Muslim students be banned from entering the United States now?',\n",
       "         b'What happens when Tectonic Plates move?'],\n",
       "        [b'What is currently your favorite rock song? And why?',\n",
       "         b'What are your favorite rock songs?'],\n",
       "        [b'What is the path for learning Java web development technologies?',\n",
       "         b'In what order should I learn Java web development technologies?'],\n",
       "        [b'What is the difference between a recruiter, headhunter, sourcerer, and hiring manager?',\n",
       "         b'Why do companies pay headhunters to recruit for them when they can do the hiring themselves?'],\n",
       "        [b'What actress/celebrity has the best ass/derriere?',\n",
       "         b'What has been your best experience of meeting a celebrity?'],\n",
       "        [b'I have \\xc2\\xa31,000 ($1,200). What should I do to get the most out of it in 1 year?',\n",
       "         b'Who are some rockstars that received classical training?'],\n",
       "        [b\"How do I read my friend's WhatsApp chat without taking his phone?\",\n",
       "         b'How do I transfer whatsapp chat history from old phone to new?'],\n",
       "        [b'Who should/could be the next President of India?',\n",
       "         b'Who can become the next President of India and why?'],\n",
       "        [b'What were the best movies of 2016? Why?',\n",
       "         b'Which movies are the best in 2016?'],\n",
       "        [b\"Why do librarians need a master's of library science degree?\",\n",
       "         b'Why a librarian need 4 years college degree?'],\n",
       "        [b'Daniel Ek: When will Spotify be available for Indian customers?',\n",
       "         b\"Why hasn't Daniel Ek brought Spotify to India?\"],\n",
       "        [b'What are some of the best culinary schools programs out there?',\n",
       "         b'What are the best culinary schools?'],\n",
       "        [b'Is World War 3 on the way with the US Elections?',\n",
       "         b'Is World War 3 more imminent than expected?'],\n",
       "        [b'How is views on answers in Quora calculated?',\n",
       "         b'How does Quora count the views of my/your answers?'],\n",
       "        [b'What do you think of Russian troops arriving in Pakistan for a joint military drill? Is this the biggest failure of the Modi government?',\n",
       "         b'Is Pakistan-Russia joint military exercise biggest failure of Modi Government?'],\n",
       "        [b\"Why can't I comment on some people's posts?\",\n",
       "         b\"Why can't I comment on certain answers?\"],\n",
       "        [b'When God said he made man in his image, did he mean that we look like him or that he created us in, \\xe2\\x80\\x9chis image\\xe2\\x80\\x9d as in how he wanted man to look?',\n",
       "         b'What did Voltaire mean when he said that \"if God did not exist, it would be necessary to invent him\"?'],\n",
       "        [b'Refrigeration and air conditioning pjd offering colleges in india?',\n",
       "         b'How is CDAC training useful in industry?'],\n",
       "        [b\"How much money per hour do Uber drivers make in Toledo, OH? What's the most a person can reasonably make per month?\",\n",
       "         b'What are some lesser-known sights to see when visiting Toledo, OH?'],\n",
       "        [b'Should I downvote questions that have been tagged under wrong topics?',\n",
       "         b'Difference between the hardness and TDS of water?'],\n",
       "        [b'Why do critics say Bernie Sanders is too ideal?',\n",
       "         b'Will Gixxer SF be suitable for tall riders? (About 6 feet)']],\n",
       "       dtype=object)>,\n",
       " <tf.Tensor: shape=(64,), dtype=int64, numpy=\n",
       " array([0, 0, 1, 0, 0, 0, 0, 0, 0, 0, 0, 0, 0, 0, 1, 0, 1, 1, 0, 0, 0, 0,\n",
       "        0, 0, 1, 0, 0, 1, 1, 0, 0, 1, 0, 0, 0, 0, 0, 0, 1, 0, 1, 0, 1, 0,\n",
       "        1, 1, 0, 0, 0, 0, 1, 1, 1, 1, 0, 1, 1, 1, 1, 0, 0, 0, 0, 0])>)"
      ]
     },
     "execution_count": 27,
     "metadata": {},
     "output_type": "execute_result"
    }
   ],
   "source": [
    "next(iter(trainset))"
   ]
  },
  {
   "cell_type": "code",
   "execution_count": null,
   "metadata": {},
   "outputs": [],
   "source": []
  }
 ],
 "metadata": {
  "kernelspec": {
   "display_name": "Python 3.9.5 ('tensorflow_env')",
   "language": "python",
   "name": "python3"
  },
  "language_info": {
   "codemirror_mode": {
    "name": "ipython",
    "version": 3
   },
   "file_extension": ".py",
   "mimetype": "text/x-python",
   "name": "python",
   "nbconvert_exporter": "python",
   "pygments_lexer": "ipython3",
   "version": "3.9.5"
  },
  "orig_nbformat": 4,
  "vscode": {
   "interpreter": {
    "hash": "a28c134ff1a6bb75c84e4d545e22157e2f497d4c50d69357e1757bb45c55a245"
   }
  }
 },
 "nbformat": 4,
 "nbformat_minor": 2
}
