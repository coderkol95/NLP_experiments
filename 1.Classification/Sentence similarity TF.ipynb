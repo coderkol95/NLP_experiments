{
 "cells": [
  {
   "cell_type": "code",
   "execution_count": 1,
   "metadata": {},
   "outputs": [],
   "source": [
    "import pandas as pd\n",
    "import numpy as np\n",
    "import tensorflow as tf\n",
    "from sklearn.model_selection import train_test_split\n",
    "import seaborn as sns\n",
    "import matplotlib.pyplot as plt\n",
    "import warnings\n",
    "warnings.filterwarnings('ignore')"
   ]
  },
  {
   "cell_type": "markdown",
   "metadata": {},
   "source": [
    "# Data prep"
   ]
  },
  {
   "cell_type": "code",
   "execution_count": 48,
   "metadata": {},
   "outputs": [],
   "source": [
    "data = pd.read_csv(\"../0.Data/questions.csv\")\n",
    "data = data.iloc[:,3:]\n",
    "data['question1'] = data['question1'].apply(lambda x: str(x))\n",
    "data['question2'] = data['question2'].apply(lambda x: str(x))\n",
    "\n",
    "sents = data['question1'].values.tolist()\n",
    "sents.extend(data['question2'].values.tolist())\n",
    "\n",
    "tokenizer = tf.keras.preprocessing.text.Tokenizer()\n",
    "tokenizer.fit_on_texts(sents)\n",
    "data['q1_tokenized'] = tokenizer.texts_to_sequences(data['question1'])\n",
    "data['q2_tokenized'] = tokenizer.texts_to_sequences(data['question2'])\n"
   ]
  },
  {
   "cell_type": "code",
   "execution_count": 91,
   "metadata": {},
   "outputs": [
    {
     "data": {
      "text/plain": [
       "808702"
      ]
     },
     "execution_count": 91,
     "metadata": {},
     "output_type": "execute_result"
    }
   ],
   "source": [
    "tokenizer.document_count"
   ]
  },
  {
   "cell_type": "code",
   "execution_count": 3,
   "metadata": {},
   "outputs": [
    {
     "name": "stdout",
     "output_type": "stream",
     "text": [
      "Max lenth of sequences chosen:  75\n"
     ]
    },
    {
     "data": {
      "image/png": "[encoded data removed]",
      "text/plain": [
       "<Figure size 432x288 with 1 Axes>"
      ]
     },
     "metadata": {
      "needs_background": "light"
     },
     "output_type": "display_data"
    }
   ],
   "source": [
    "plt.axvline(50, c='red')\n",
    "plt.axvline(75, c='blue')\n",
    "sns.countplot(pd.Series([len(x) for x in sents]))\n",
    "MAX_LEN = 75\n",
    "print(\"Max lenth of sequences chosen: \", MAX_LEN)"
   ]
  },
  {
   "cell_type": "code",
   "execution_count": 27,
   "metadata": {},
   "outputs": [],
   "source": [
    "def pad_sequences(text):\n",
    "\n",
    "    if len(text) <= MAX_LEN:\n",
    "        text.extend([0]*(MAX_LEN - len(text)))\n",
    "    else:\n",
    "        text = text[:MAX_LEN]\n",
    "\n",
    "    return text"
   ]
  },
  {
   "cell_type": "code",
   "execution_count": 49,
   "metadata": {},
   "outputs": [],
   "source": [
    "data['q1_tokenized'] = data['q1_tokenized'].apply(pad_sequences)\n",
    "data['q2_tokenized'] = data['q2_tokenized'].apply(pad_sequences)"
   ]
  },
  {
   "cell_type": "code",
   "execution_count": 60,
   "metadata": {},
   "outputs": [
    {
     "data": {
      "text/plain": [
       "(2, 404351, 75)"
      ]
     },
     "execution_count": 60,
     "metadata": {},
     "output_type": "execute_result"
    }
   ],
   "source": [
    "tokenized_data = np.array([np.stack(data['q1_tokenized']), np.stack(data['q1_tokenized'])])\n",
    "tokenized_data = tokenized_data.swapaxes(0,1)"
   ]
  },
  {
   "cell_type": "code",
   "execution_count": 71,
   "metadata": {},
   "outputs": [],
   "source": [
    "X_train, X_test, y_train, y_test = train_test_split(tokenized_data, data['is_duplicate'], stratify=data['is_duplicate'], random_state=42, test_size=0.1)\n",
    "X_train, X_val, y_train, y_val = train_test_split(X_train, y_train, random_state=42, test_size=0.1, stratify=y_train)"
   ]
  },
  {
   "cell_type": "code",
   "execution_count": 76,
   "metadata": {},
   "outputs": [],
   "source": [
    "y_train = y_train.values.reshape(-1,1)\n",
    "y_val = y_val.values.reshape(-1,1)\n",
    "y_test = y_test.values.reshape(-1,1)"
   ]
  },
  {
   "cell_type": "code",
   "execution_count": 77,
   "metadata": {},
   "outputs": [],
   "source": [
    "trainset = tf.data.Dataset.from_tensor_slices((X_train,y_train)).batch(batch_size=64).shuffle(buffer_size=5)\n",
    "validationset = tf.data.Dataset.from_tensor_slices((X_val,y_val)).batch(batch_size=64)\n",
    "testset = tf.data.Dataset.from_tensor_slices((X_train,y_train)).batch(batch_size=64)"
   ]
  },
  {
   "cell_type": "markdown",
   "metadata": {},
   "source": [
    "# Model"
   ]
  },
  {
   "cell_type": "code",
   "execution_count": 125,
   "metadata": {},
   "outputs": [],
   "source": [
    "class sim_model(tf.keras.Model):\n",
    "\n",
    "    def __init__(self,):\n",
    "        \n",
    "        super(sim_model,self).__init__()\n",
    "\n",
    "        self.emb = tf.keras.layers.Embedding(input_dim = tokenizer.document_count, output_dim = 64)\n",
    "\n",
    "        self.lstm1 = tf.keras.layers.LSTM(50, return_sequences = True)\n",
    "        self.lstm2 = tf.keras.layers.LSTM(50, return_sequences = True)\n",
    "\n",
    "        self.fc1 = tf.keras.layers.Dense(32, activation='leaky_relu')\n",
    "        self.fc2 = tf.keras.layers.Dense(32, activation='leaky_relu')\n",
    "\n",
    "    def call(self, x1, x2, h1i = None, h2i = None):\n",
    "\n",
    "        embx1 = self.emb(x1)\n",
    "        embx2 = self.emb(x2)\n",
    "        print(embx1.shape)\n",
    "\n",
    "        seqx1, h1o = self.lstm1(embx1, h1i)\n",
    "        seqx2, h2o = self.lstm2(embx2, h2i)\n",
    "        print(seqx1.shape)\n",
    "\n",
    "        fcx1 = self.fc1(seqx1)\n",
    "        fcx2 = self.fc2(seqx2)\n",
    "        print(fcx1.shape)\n",
    "\n",
    "        return fcx1, fcx2, h1o, h2o"
   ]
  },
  {
   "cell_type": "code",
   "execution_count": 126,
   "metadata": {},
   "outputs": [],
   "source": [
    "similarity_model = sim_model()"
   ]
  },
  {
   "cell_type": "code",
   "execution_count": 127,
   "metadata": {},
   "outputs": [
    {
     "name": "stdout",
     "output_type": "stream",
     "text": [
      "(2, 75, 64)\n",
      "(75, 50)\n",
      "(75, 32)\n"
     ]
    },
    {
     "data": {
      "text/plain": [
       "(<tf.Tensor: shape=(75, 32), dtype=float32, numpy=\n",
       " array([[-1.7020488e-03,  2.9979243e-03,  8.4828418e-03, ...,\n",
       "          8.1074499e-03, -7.9630216e-04,  4.1030631e-03],\n",
       "        [ 1.6887792e-03, -1.3476536e-03, -3.7773654e-03, ...,\n",
       "          3.5375364e-05,  1.0218750e-02, -2.1396931e-03],\n",
       "        [ 4.3395557e-03,  4.9573067e-03, -3.6092286e-03, ...,\n",
       "          1.5521098e-02,  3.5157355e-03, -2.5501493e-03],\n",
       "        ...,\n",
       "        [ 7.0608086e-03, -1.9564661e-03, -6.2170136e-03, ...,\n",
       "          7.7043162e-03, -3.3679788e-03,  1.1281302e-02],\n",
       "        [ 7.0608114e-03, -1.9564668e-03, -6.2170145e-03, ...,\n",
       "          7.7043176e-03, -3.3679779e-03,  1.1281304e-02],\n",
       "        [ 7.0608058e-03, -1.9564654e-03, -6.2170131e-03, ...,\n",
       "          7.7043148e-03, -3.3679791e-03,  1.1281300e-02]], dtype=float32)>,\n",
       " <tf.Tensor: shape=(75, 32), dtype=float32, numpy=\n",
       " array([[-0.00170205,  0.00299792,  0.00848284, ...,  0.00810745,\n",
       "         -0.0007963 ,  0.00410306],\n",
       "        [-0.00293617,  0.00361504,  0.00460416, ..., -0.0010356 ,\n",
       "         -0.000769  ,  0.005762  ],\n",
       "        [ 0.00262515,  0.00981168, -0.00091426, ...,  0.01071804,\n",
       "         -0.00084823, -0.00049515],\n",
       "        ...,\n",
       "        [ 0.00164647, -0.0009849 , -0.00768759, ...,  0.00948821,\n",
       "         -0.00275473, -0.00050401],\n",
       "        [ 0.00164647, -0.0009849 , -0.00768759, ...,  0.00948821,\n",
       "         -0.00275473, -0.00050401],\n",
       "        [ 0.00164647, -0.0009849 , -0.00768759, ...,  0.00948821,\n",
       "         -0.00275473, -0.00050401]], dtype=float32)>,\n",
       " <tf.Tensor: shape=(75, 50), dtype=float32, numpy=\n",
       " array([[-0.0002796 , -0.00586219, -0.01823401, ..., -0.00300054,\n",
       "         -0.00623588,  0.00217923],\n",
       "        [ 0.0033838 , -0.02350172, -0.00430126, ...,  0.00425111,\n",
       "          0.00811926,  0.00566003],\n",
       "        [-0.00296424, -0.01332037,  0.00289995, ..., -0.00097916,\n",
       "         -0.00108253,  0.01072713],\n",
       "        ...,\n",
       "        [ 0.00095984, -0.00429437,  0.00526333, ..., -0.00773534,\n",
       "         -0.01459462, -0.00248809],\n",
       "        [ 0.00095984, -0.00429437,  0.00526333, ..., -0.00773534,\n",
       "         -0.01459462, -0.00248809],\n",
       "        [ 0.00095984, -0.00429437,  0.00526333, ..., -0.00773534,\n",
       "         -0.01459462, -0.00248809]], dtype=float32)>,\n",
       " <tf.Tensor: shape=(75, 50), dtype=float32, numpy=\n",
       " array([[-0.0002796 , -0.00586219, -0.01823401, ..., -0.00300054,\n",
       "         -0.00623588,  0.00217923],\n",
       "        [-0.00242092, -0.01175174, -0.00895342, ...,  0.00253335,\n",
       "         -0.00538168, -0.00731231],\n",
       "        [-0.00420165, -0.00725365, -0.00221397, ..., -0.00168306,\n",
       "         -0.0088811 ,  0.00470332],\n",
       "        ...,\n",
       "        [ 0.004298  , -0.00534254,  0.0004286 , ..., -0.01580595,\n",
       "         -0.00044375, -0.00546501],\n",
       "        [ 0.004298  , -0.00534254,  0.0004286 , ..., -0.01580595,\n",
       "         -0.00044375, -0.00546501],\n",
       "        [ 0.004298  , -0.00534254,  0.0004286 , ..., -0.01580595,\n",
       "         -0.00044375, -0.00546501]], dtype=float32)>)"
      ]
     },
     "execution_count": 127,
     "metadata": {},
     "output_type": "execute_result"
    }
   ],
   "source": [
    "similarity_model(next(iter(trainset))[0][0], next(iter(trainset))[0][1])"
   ]
  },
  {
   "cell_type": "code",
   "execution_count": 88,
   "metadata": {},
   "outputs": [],
   "source": [
    "model.compile(\n",
    "    optimizer = tf.keras.optimizers.RMSprop(learning_rate=1e-4),\n",
    "    metrics = 'accuracy',\n",
    "    loss = tf.keras.losses.BinaryCrossentropy()\n",
    ")"
   ]
  },
  {
   "cell_type": "code",
   "execution_count": 89,
   "metadata": {},
   "outputs": [
    {
     "name": "stdout",
     "output_type": "stream",
     "text": [
      "Epoch 1/10\n",
      "WARNING:tensorflow:Model was constructed with shape (None, None) for input KerasTensor(type_spec=TensorSpec(shape=(None, None), dtype=tf.float32, name='embedding_2_input'), name='embedding_2_input', description=\"created by layer 'embedding_2_input'\"), but it was called on an input with incompatible shape (None, 2, 75).\n"
     ]
    },
    {
     "ename": "ValueError",
     "evalue": "in user code:\n\n    File \"/opt/homebrew/Caskroom/miniforge/base/envs/tensorflow_env/lib/python3.9/site-packages/keras/engine/training.py\", line 878, in train_function  *\n        return step_function(self, iterator)\n    File \"/opt/homebrew/Caskroom/miniforge/base/envs/tensorflow_env/lib/python3.9/site-packages/keras/engine/training.py\", line 867, in step_function  **\n        outputs = model.distribute_strategy.run(run_step, args=(data,))\n    File \"/opt/homebrew/Caskroom/miniforge/base/envs/tensorflow_env/lib/python3.9/site-packages/keras/engine/training.py\", line 860, in run_step  **\n        outputs = model.train_step(data)\n    File \"/opt/homebrew/Caskroom/miniforge/base/envs/tensorflow_env/lib/python3.9/site-packages/keras/engine/training.py\", line 808, in train_step\n        y_pred = self(x, training=True)\n    File \"/opt/homebrew/Caskroom/miniforge/base/envs/tensorflow_env/lib/python3.9/site-packages/keras/utils/traceback_utils.py\", line 67, in error_handler\n        raise e.with_traceback(filtered_tb) from None\n    File \"/opt/homebrew/Caskroom/miniforge/base/envs/tensorflow_env/lib/python3.9/site-packages/keras/engine/input_spec.py\", line 213, in assert_input_compatibility\n        raise ValueError(f'Input {input_index} of layer \"{layer_name}\" '\n\n    ValueError: Exception encountered when calling layer \"sequential_2\" (type Sequential).\n    \n    Input 0 of layer \"bidirectional_2\" is incompatible with the layer: expected ndim=3, found ndim=4. Full shape received: (None, 2, 75, 75)\n    \n    Call arguments received:\n      • inputs=tf.Tensor(shape=(None, 2, 75), dtype=int64)\n      • training=True\n      • mask=None\n",
     "output_type": "error",
     "traceback": [
      "\u001b[0;31m---------------------------------------------------------------------------\u001b[0m",
      "\u001b[0;31mValueError\u001b[0m                                Traceback (most recent call last)",
      "\u001b[0;32m/var/folders/k5/l531tc5j2070y5w0jlhbhfcw0000gn/T/ipykernel_17832/2545463946.py\u001b[0m in \u001b[0;36m<module>\u001b[0;34m\u001b[0m\n\u001b[0;32m----> 1\u001b[0;31m model.fit(trainset,\n\u001b[0m\u001b[1;32m      2\u001b[0m \u001b[0mepochs\u001b[0m\u001b[0;34m=\u001b[0m\u001b[0;36m10\u001b[0m\u001b[0;34m,\u001b[0m\u001b[0;34m\u001b[0m\u001b[0;34m\u001b[0m\u001b[0m\n\u001b[1;32m      3\u001b[0m \u001b[0mvalidation_data\u001b[0m \u001b[0;34m=\u001b[0m \u001b[0mvalidationset\u001b[0m\u001b[0;34m,\u001b[0m\u001b[0;34m\u001b[0m\u001b[0;34m\u001b[0m\u001b[0m\n\u001b[1;32m      4\u001b[0m \u001b[0mcallbacks\u001b[0m \u001b[0;34m=\u001b[0m \u001b[0;34m[\u001b[0m\u001b[0mtf\u001b[0m\u001b[0;34m.\u001b[0m\u001b[0mkeras\u001b[0m\u001b[0;34m.\u001b[0m\u001b[0mcallbacks\u001b[0m\u001b[0;34m.\u001b[0m\u001b[0mEarlyStopping\u001b[0m\u001b[0;34m(\u001b[0m\u001b[0mpatience\u001b[0m\u001b[0;34m=\u001b[0m\u001b[0;36m5\u001b[0m\u001b[0;34m,\u001b[0m \u001b[0mmonitor\u001b[0m\u001b[0;34m=\u001b[0m\u001b[0;34m'val_loss'\u001b[0m\u001b[0;34m)\u001b[0m\u001b[0;34m]\u001b[0m\u001b[0;34m\u001b[0m\u001b[0;34m\u001b[0m\u001b[0m\n\u001b[1;32m      5\u001b[0m )\n",
      "\u001b[0;32m/opt/homebrew/Caskroom/miniforge/base/envs/tensorflow_env/lib/python3.9/site-packages/keras/utils/traceback_utils.py\u001b[0m in \u001b[0;36merror_handler\u001b[0;34m(*args, **kwargs)\u001b[0m\n\u001b[1;32m     65\u001b[0m     \u001b[0;32mexcept\u001b[0m \u001b[0mException\u001b[0m \u001b[0;32mas\u001b[0m \u001b[0me\u001b[0m\u001b[0;34m:\u001b[0m  \u001b[0;31m# pylint: disable=broad-except\u001b[0m\u001b[0;34m\u001b[0m\u001b[0;34m\u001b[0m\u001b[0m\n\u001b[1;32m     66\u001b[0m       \u001b[0mfiltered_tb\u001b[0m \u001b[0;34m=\u001b[0m \u001b[0m_process_traceback_frames\u001b[0m\u001b[0;34m(\u001b[0m\u001b[0me\u001b[0m\u001b[0;34m.\u001b[0m\u001b[0m__traceback__\u001b[0m\u001b[0;34m)\u001b[0m\u001b[0;34m\u001b[0m\u001b[0;34m\u001b[0m\u001b[0m\n\u001b[0;32m---> 67\u001b[0;31m       \u001b[0;32mraise\u001b[0m \u001b[0me\u001b[0m\u001b[0;34m.\u001b[0m\u001b[0mwith_traceback\u001b[0m\u001b[0;34m(\u001b[0m\u001b[0mfiltered_tb\u001b[0m\u001b[0;34m)\u001b[0m \u001b[0;32mfrom\u001b[0m \u001b[0;32mNone\u001b[0m\u001b[0;34m\u001b[0m\u001b[0;34m\u001b[0m\u001b[0m\n\u001b[0m\u001b[1;32m     68\u001b[0m     \u001b[0;32mfinally\u001b[0m\u001b[0;34m:\u001b[0m\u001b[0;34m\u001b[0m\u001b[0;34m\u001b[0m\u001b[0m\n\u001b[1;32m     69\u001b[0m       \u001b[0;32mdel\u001b[0m \u001b[0mfiltered_tb\u001b[0m\u001b[0;34m\u001b[0m\u001b[0;34m\u001b[0m\u001b[0m\n",
      "\u001b[0;32m/opt/homebrew/Caskroom/miniforge/base/envs/tensorflow_env/lib/python3.9/site-packages/tensorflow/python/framework/func_graph.py\u001b[0m in \u001b[0;36mautograph_handler\u001b[0;34m(*args, **kwargs)\u001b[0m\n\u001b[1;32m   1127\u001b[0m           \u001b[0;32mexcept\u001b[0m \u001b[0mException\u001b[0m \u001b[0;32mas\u001b[0m \u001b[0me\u001b[0m\u001b[0;34m:\u001b[0m  \u001b[0;31m# pylint:disable=broad-except\u001b[0m\u001b[0;34m\u001b[0m\u001b[0;34m\u001b[0m\u001b[0m\n\u001b[1;32m   1128\u001b[0m             \u001b[0;32mif\u001b[0m \u001b[0mhasattr\u001b[0m\u001b[0;34m(\u001b[0m\u001b[0me\u001b[0m\u001b[0;34m,\u001b[0m \u001b[0;34m\"ag_error_metadata\"\u001b[0m\u001b[0;34m)\u001b[0m\u001b[0;34m:\u001b[0m\u001b[0;34m\u001b[0m\u001b[0;34m\u001b[0m\u001b[0m\n\u001b[0;32m-> 1129\u001b[0;31m               \u001b[0;32mraise\u001b[0m \u001b[0me\u001b[0m\u001b[0;34m.\u001b[0m\u001b[0mag_error_metadata\u001b[0m\u001b[0;34m.\u001b[0m\u001b[0mto_exception\u001b[0m\u001b[0;34m(\u001b[0m\u001b[0me\u001b[0m\u001b[0;34m)\u001b[0m\u001b[0;34m\u001b[0m\u001b[0;34m\u001b[0m\u001b[0m\n\u001b[0m\u001b[1;32m   1130\u001b[0m             \u001b[0;32melse\u001b[0m\u001b[0;34m:\u001b[0m\u001b[0;34m\u001b[0m\u001b[0;34m\u001b[0m\u001b[0m\n\u001b[1;32m   1131\u001b[0m               \u001b[0;32mraise\u001b[0m\u001b[0;34m\u001b[0m\u001b[0;34m\u001b[0m\u001b[0m\n",
      "\u001b[0;31mValueError\u001b[0m: in user code:\n\n    File \"/opt/homebrew/Caskroom/miniforge/base/envs/tensorflow_env/lib/python3.9/site-packages/keras/engine/training.py\", line 878, in train_function  *\n        return step_function(self, iterator)\n    File \"/opt/homebrew/Caskroom/miniforge/base/envs/tensorflow_env/lib/python3.9/site-packages/keras/engine/training.py\", line 867, in step_function  **\n        outputs = model.distribute_strategy.run(run_step, args=(data,))\n    File \"/opt/homebrew/Caskroom/miniforge/base/envs/tensorflow_env/lib/python3.9/site-packages/keras/engine/training.py\", line 860, in run_step  **\n        outputs = model.train_step(data)\n    File \"/opt/homebrew/Caskroom/miniforge/base/envs/tensorflow_env/lib/python3.9/site-packages/keras/engine/training.py\", line 808, in train_step\n        y_pred = self(x, training=True)\n    File \"/opt/homebrew/Caskroom/miniforge/base/envs/tensorflow_env/lib/python3.9/site-packages/keras/utils/traceback_utils.py\", line 67, in error_handler\n        raise e.with_traceback(filtered_tb) from None\n    File \"/opt/homebrew/Caskroom/miniforge/base/envs/tensorflow_env/lib/python3.9/site-packages/keras/engine/input_spec.py\", line 213, in assert_input_compatibility\n        raise ValueError(f'Input {input_index} of layer \"{layer_name}\" '\n\n    ValueError: Exception encountered when calling layer \"sequential_2\" (type Sequential).\n    \n    Input 0 of layer \"bidirectional_2\" is incompatible with the layer: expected ndim=3, found ndim=4. Full shape received: (None, 2, 75, 75)\n    \n    Call arguments received:\n      • inputs=tf.Tensor(shape=(None, 2, 75), dtype=int64)\n      • training=True\n      • mask=None\n"
     ]
    }
   ],
   "source": [
    "model.fit(trainset,\n",
    "epochs=10,\n",
    "validation_data = validationset,\n",
    "callbacks = [tf.keras.callbacks.EarlyStopping(patience=5, monitor='val_loss')]\n",
    ")"
   ]
  },
  {
   "cell_type": "code",
   "execution_count": 90,
   "metadata": {},
   "outputs": [
    {
     "name": "stdout",
     "output_type": "stream",
     "text": [
      "Model: \"sequential_2\"\n",
      "_________________________________________________________________\n",
      " Layer (type)                Output Shape              Param #   \n",
      "=================================================================\n",
      " embedding_2 (Embedding)     (None, None, 75)          7500000   \n",
      "                                                                 \n",
      " bidirectional_2 (Bidirectio  (None, 64)               27648     \n",
      " nal)                                                            \n",
      "                                                                 \n",
      " dense_8 (Dense)             (None, 64)                4160      \n",
      "                                                                 \n",
      " dense_9 (Dense)             (None, 128)               8320      \n",
      "                                                                 \n",
      " dropout_2 (Dropout)         (None, 128)               0         \n",
      "                                                                 \n",
      " dense_10 (Dense)            (None, 32)                4128      \n",
      "                                                                 \n",
      " dense_11 (Dense)            (None, 1)                 33        \n",
      "                                                                 \n",
      "=================================================================\n",
      "Total params: 7,544,289\n",
      "Trainable params: 7,544,289\n",
      "Non-trainable params: 0\n",
      "_________________________________________________________________\n"
     ]
    }
   ],
   "source": [
    "model.summary()"
   ]
  },
  {
   "cell_type": "code",
   "execution_count": null,
   "metadata": {},
   "outputs": [],
   "source": []
  },
  {
   "cell_type": "code",
   "execution_count": null,
   "metadata": {},
   "outputs": [],
   "source": []
  }
 ],
 "metadata": {
  "kernelspec": {
   "display_name": "Python 3.9.5 ('tensorflow_env')",
   "language": "python",
   "name": "python3"
  },
  "language_info": {
   "codemirror_mode": {
    "name": "ipython",
    "version": 3
   },
   "file_extension": ".py",
   "mimetype": "text/x-python",
   "name": "python",
   "nbconvert_exporter": "python",
   "pygments_lexer": "ipython3",
   "version": "3.9.5"
  },
  "orig_nbformat": 4,
  "vscode": {
   "interpreter": {
    "hash": "a28c134ff1a6bb75c84e4d545e22157e2f497d4c50d69357e1757bb45c55a245"
   }
  }
 },
 "nbformat": 4,
 "nbformat_minor": 2
}
