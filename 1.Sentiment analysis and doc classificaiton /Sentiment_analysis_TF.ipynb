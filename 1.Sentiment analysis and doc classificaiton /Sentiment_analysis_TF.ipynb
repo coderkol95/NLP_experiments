{
 "cells": [
  {
   "cell_type": "code",
   "execution_count": 11,
   "metadata": {},
   "outputs": [],
   "source": [
    "import pandas as pd\n",
    "import numpy as np\n",
    "from sklearn.model_selection import train_test_split\n",
    "import re\n",
    "import nltk\n",
    "from nltk.tokenize import word_tokenize\n",
    "from nltk.stem import PorterStemmer\n",
    "from nltk.corpus import stopwords\n",
    "from collections import defaultdict\n",
    "import tensorflow as tf"
   ]
  },
  {
   "cell_type": "markdown",
   "metadata": {},
   "source": [
    "# Data prep"
   ]
  },
  {
   "cell_type": "code",
   "execution_count": 12,
   "metadata": {},
   "outputs": [],
   "source": [
    "df = pd.read_csv(\"../0.Data/stock_data.csv\")\n",
    "X_train, X_test, y_train, y_test = train_test_split(df['Text'], df['Sentiment'], test_size=0.2, random_state=42, shuffle=True)\n",
    "\n",
    "stemmer = PorterStemmer()\n",
    "stopword_list = stopwords.words('english')\n",
    "\n",
    "def preprocess(text):\n",
    "    \n",
    "    # 1. Remove punctuations\n",
    "    text = re.sub('-',' ', text)\n",
    "    text = re.sub('[^A-Za-z\\s\\d]',' ', text)\n",
    "    # 2. To lower\n",
    "    text = text.lower()\n",
    "    # 3. Stemming\n",
    "    text = stemmer.stem(text)\n",
    "    # 4. Remove stop words\n",
    "    # 5. Return tokenized data\n",
    "    return_seq = [x for x in text.split() if x not in stopword_list]\n",
    "\n",
    "    if len(return_seq) <= 50:\n",
    "        return_seq.extend(['']* (50 - len(return_seq)))\n",
    "    elif len(return_seq) > 50:\n",
    "        return_seq = return_seq[:50]\n",
    "\n",
    "    return return_seq\n",
    "\n",
    "X_train_preprocessed = X_train.apply(preprocess)\n",
    "X_test_preprocessed = X_test.apply(preprocess)\n",
    "\n",
    "unique_words = []\n",
    "for x in X_train_preprocessed:\n",
    "    unique_words.extend(x)\n",
    "unique_words = set(unique_words)\n",
    "\n",
    "word_to_num = defaultdict(lambda:9999)\n",
    "word_to_num.update(zip(unique_words, np.arange(len(unique_words))))\n",
    "num_to_word = dict(zip(list(word_to_num.values()), list(word_to_num.keys())))\n",
    "\n",
    "train_X = np.array([[word_to_num[word] for word in sent] for sent in X_train_preprocessed])\n",
    "test_X = np.array([[word_to_num[word] for word in sent] for sent in X_test_preprocessed])\n",
    "\n",
    "y_train = np.array(y_train).reshape(-1,1)\n",
    "y_test = np.array(y_test).reshape(-1,1)"
   ]
  },
  {
   "cell_type": "markdown",
   "metadata": {},
   "source": [
    "## TF data preparation"
   ]
  },
  {
   "cell_type": "code",
   "execution_count": 13,
   "metadata": {},
   "outputs": [],
   "source": [
    "train_X_tensor = tf.data.Dataset.from_tensor_slices(train_X)\n",
    "train_y_tensor = tf.data.Dataset.from_tensor_slices(y_train)\n",
    "train_dataset = tf.data.Dataset.zip((train_X_tensor, train_y_tensor))\n",
    "train_dataset = train_dataset.shuffle(buffer_size=12)\n",
    "train_dataset = train_dataset.batch(batch_size=64)\n",
    "\n",
    "test_X_tensor = tf.data.Dataset.from_tensor_slices(test_X)\n",
    "test_y_tensor = tf.data.Dataset.from_tensor_slices(y_test)\n",
    "test_dataset = tf.data.Dataset.zip((test_X_tensor, test_y_tensor))\n",
    "test_dataset = test_dataset.batch(batch_size=64)"
   ]
  },
  {
   "cell_type": "markdown",
   "metadata": {},
   "source": [
    "# Neural network"
   ]
  },
  {
   "cell_type": "code",
   "execution_count": 14,
   "metadata": {},
   "outputs": [],
   "source": [
    "model = tf.keras.Sequential([\n",
    "    tf.keras.layers.Embedding(input_dim = len(unique_words)+1, output_dim = 50, name='embedding_layer'),\n",
    "    tf.keras.layers.LSTM(units=40, return_sequences= False, name='lstm_layer'),\n",
    "    tf.keras.layers.Dense(units=50, activation = 'leaky_relu', name='dense_layer'),\n",
    "    tf.keras.layers.Dense(units=1, activation = 'sigmoid', name='output_layer'),\n",
    "])"
   ]
  },
  {
   "cell_type": "code",
   "execution_count": 15,
   "metadata": {},
   "outputs": [],
   "source": [
    "model.compile(optimizer=tf.optimizers.Adam(learning_rate=0.0001),\n",
    "metrics=[tf.keras.metrics.Accuracy()],\n",
    "loss=tf.keras.losses.BinaryCrossentropy(),)"
   ]
  },
  {
   "cell_type": "code",
   "execution_count": 16,
   "metadata": {},
   "outputs": [
    {
     "name": "stdout",
     "output_type": "stream",
     "text": [
      "Model: \"sequential_1\"\n",
      "_________________________________________________________________\n",
      " Layer (type)                Output Shape              Param #   \n",
      "=================================================================\n",
      " embedding_layer (Embedding)  (None, None, 50)         432500    \n",
      "                                                                 \n",
      " lstm_layer (LSTM)           (None, 40)                14560     \n",
      "                                                                 \n",
      " dense_layer (Dense)         (None, 50)                2050      \n",
      "                                                                 \n",
      " output_layer (Dense)        (None, 1)                 51        \n",
      "                                                                 \n",
      "=================================================================\n",
      "Total params: 449,161\n",
      "Trainable params: 449,161\n",
      "Non-trainable params: 0\n",
      "_________________________________________________________________\n"
     ]
    }
   ],
   "source": [
    "model.summary()"
   ]
  },
  {
   "cell_type": "code",
   "execution_count": 17,
   "metadata": {},
   "outputs": [
    {
     "name": "stdout",
     "output_type": "stream",
     "text": [
      "Epoch 1/10\n"
     ]
    },
    {
     "name": "stderr",
     "output_type": "stream",
     "text": [
      "2022-08-29 11:40:34.268020: I tensorflow/core/grappler/optimizers/custom_graph_optimizer_registry.cc:112] Plugin optimizer for device_type GPU is enabled.\n",
      "2022-08-29 11:40:34.624993: I tensorflow/core/grappler/optimizers/custom_graph_optimizer_registry.cc:112] Plugin optimizer for device_type GPU is enabled.\n",
      "2022-08-29 11:40:34.819167: I tensorflow/core/grappler/optimizers/custom_graph_optimizer_registry.cc:112] Plugin optimizer for device_type GPU is enabled.\n"
     ]
    },
    {
     "name": "stdout",
     "output_type": "stream",
     "text": [
      "73/73 [==============================] - ETA: 0s - loss: 0.6844 - accuracy: 0.0000e+00"
     ]
    },
    {
     "name": "stderr",
     "output_type": "stream",
     "text": [
      "2022-08-29 11:40:38.667053: I tensorflow/core/grappler/optimizers/custom_graph_optimizer_registry.cc:112] Plugin optimizer for device_type GPU is enabled.\n",
      "2022-08-29 11:40:38.799596: I tensorflow/core/grappler/optimizers/custom_graph_optimizer_registry.cc:112] Plugin optimizer for device_type GPU is enabled.\n",
      "WARNING:absl:Found untraced functions such as lstm_cell_1_layer_call_fn, lstm_cell_1_layer_call_and_return_conditional_losses, lstm_cell_1_layer_call_fn, lstm_cell_1_layer_call_and_return_conditional_losses, lstm_cell_1_layer_call_and_return_conditional_losses while saving (showing 5 of 5). These functions will not be directly callable after loading.\n"
     ]
    },
    {
     "name": "stdout",
     "output_type": "stream",
     "text": [
      "INFO:tensorflow:Assets written to: model_checkpoints/sentiment_analysis/assets\n"
     ]
    },
    {
     "name": "stderr",
     "output_type": "stream",
     "text": [
      "INFO:tensorflow:Assets written to: model_checkpoints/sentiment_analysis/assets\n",
      "WARNING:absl:<keras.layers.recurrent.LSTMCell object at 0x2c4577fa0> has the same name 'LSTMCell' as a built-in Keras object. Consider renaming <class 'keras.layers.recurrent.LSTMCell'> to avoid naming conflicts when loading with `tf.keras.models.load_model`. If renaming is not possible, pass the object in the `custom_objects` parameter of the load function.\n"
     ]
    },
    {
     "name": "stdout",
     "output_type": "stream",
     "text": [
      "73/73 [==============================] - 8s 88ms/step - loss: 0.6844 - accuracy: 0.0000e+00 - val_loss: 0.6674 - val_accuracy: 0.0000e+00 - lr: 1.0000e-04\n",
      "Epoch 2/10\n",
      "72/73 [============================>.] - ETA: 0s - loss: 0.6444 - accuracy: 0.0000e+00"
     ]
    },
    {
     "name": "stderr",
     "output_type": "stream",
     "text": [
      "WARNING:absl:Found untraced functions such as lstm_cell_1_layer_call_fn, lstm_cell_1_layer_call_and_return_conditional_losses, lstm_cell_1_layer_call_fn, lstm_cell_1_layer_call_and_return_conditional_losses, lstm_cell_1_layer_call_and_return_conditional_losses while saving (showing 5 of 5). These functions will not be directly callable after loading.\n"
     ]
    },
    {
     "name": "stdout",
     "output_type": "stream",
     "text": [
      "INFO:tensorflow:Assets written to: model_checkpoints/sentiment_analysis/assets\n"
     ]
    },
    {
     "name": "stderr",
     "output_type": "stream",
     "text": [
      "INFO:tensorflow:Assets written to: model_checkpoints/sentiment_analysis/assets\n",
      "WARNING:absl:<keras.layers.recurrent.LSTMCell object at 0x2c4577fa0> has the same name 'LSTMCell' as a built-in Keras object. Consider renaming <class 'keras.layers.recurrent.LSTMCell'> to avoid naming conflicts when loading with `tf.keras.models.load_model`. If renaming is not possible, pass the object in the `custom_objects` parameter of the load function.\n"
     ]
    },
    {
     "name": "stdout",
     "output_type": "stream",
     "text": [
      "73/73 [==============================] - 6s 78ms/step - loss: 0.6439 - accuracy: 0.0000e+00 - val_loss: 0.6042 - val_accuracy: 0.0000e+00 - lr: 1.0000e-04\n",
      "Epoch 3/10\n",
      "73/73 [==============================] - ETA: 0s - loss: 0.5925 - accuracy: 0.0000e+00"
     ]
    },
    {
     "name": "stderr",
     "output_type": "stream",
     "text": [
      "WARNING:absl:Found untraced functions such as lstm_cell_1_layer_call_fn, lstm_cell_1_layer_call_and_return_conditional_losses, lstm_cell_1_layer_call_fn, lstm_cell_1_layer_call_and_return_conditional_losses, lstm_cell_1_layer_call_and_return_conditional_losses while saving (showing 5 of 5). These functions will not be directly callable after loading.\n"
     ]
    },
    {
     "name": "stdout",
     "output_type": "stream",
     "text": [
      "INFO:tensorflow:Assets written to: model_checkpoints/sentiment_analysis/assets\n"
     ]
    },
    {
     "name": "stderr",
     "output_type": "stream",
     "text": [
      "INFO:tensorflow:Assets written to: model_checkpoints/sentiment_analysis/assets\n",
      "WARNING:absl:<keras.layers.recurrent.LSTMCell object at 0x2c4577fa0> has the same name 'LSTMCell' as a built-in Keras object. Consider renaming <class 'keras.layers.recurrent.LSTMCell'> to avoid naming conflicts when loading with `tf.keras.models.load_model`. If renaming is not possible, pass the object in the `custom_objects` parameter of the load function.\n"
     ]
    },
    {
     "name": "stdout",
     "output_type": "stream",
     "text": [
      "73/73 [==============================] - 5s 74ms/step - loss: 0.5925 - accuracy: 0.0000e+00 - val_loss: 0.5774 - val_accuracy: 0.0000e+00 - lr: 1.0000e-04\n",
      "Epoch 4/10\n",
      "73/73 [==============================] - ETA: 0s - loss: 0.5892 - accuracy: 0.0000e+00"
     ]
    },
    {
     "name": "stderr",
     "output_type": "stream",
     "text": [
      "WARNING:absl:Found untraced functions such as lstm_cell_1_layer_call_fn, lstm_cell_1_layer_call_and_return_conditional_losses, lstm_cell_1_layer_call_fn, lstm_cell_1_layer_call_and_return_conditional_losses, lstm_cell_1_layer_call_and_return_conditional_losses while saving (showing 5 of 5). These functions will not be directly callable after loading.\n"
     ]
    },
    {
     "name": "stdout",
     "output_type": "stream",
     "text": [
      "INFO:tensorflow:Assets written to: model_checkpoints/sentiment_analysis/assets\n"
     ]
    },
    {
     "name": "stderr",
     "output_type": "stream",
     "text": [
      "INFO:tensorflow:Assets written to: model_checkpoints/sentiment_analysis/assets\n",
      "WARNING:absl:<keras.layers.recurrent.LSTMCell object at 0x2c4577fa0> has the same name 'LSTMCell' as a built-in Keras object. Consider renaming <class 'keras.layers.recurrent.LSTMCell'> to avoid naming conflicts when loading with `tf.keras.models.load_model`. If renaming is not possible, pass the object in the `custom_objects` parameter of the load function.\n"
     ]
    },
    {
     "name": "stdout",
     "output_type": "stream",
     "text": [
      "73/73 [==============================] - 6s 76ms/step - loss: 0.5892 - accuracy: 0.0000e+00 - val_loss: 0.5772 - val_accuracy: 0.0000e+00 - lr: 1.0000e-04\n",
      "Epoch 5/10\n",
      "73/73 [==============================] - ETA: 0s - loss: 0.5891 - accuracy: 0.0000e+00"
     ]
    },
    {
     "name": "stderr",
     "output_type": "stream",
     "text": [
      "WARNING:absl:Found untraced functions such as lstm_cell_1_layer_call_fn, lstm_cell_1_layer_call_and_return_conditional_losses, lstm_cell_1_layer_call_fn, lstm_cell_1_layer_call_and_return_conditional_losses, lstm_cell_1_layer_call_and_return_conditional_losses while saving (showing 5 of 5). These functions will not be directly callable after loading.\n"
     ]
    },
    {
     "name": "stdout",
     "output_type": "stream",
     "text": [
      "INFO:tensorflow:Assets written to: model_checkpoints/sentiment_analysis/assets\n"
     ]
    },
    {
     "name": "stderr",
     "output_type": "stream",
     "text": [
      "INFO:tensorflow:Assets written to: model_checkpoints/sentiment_analysis/assets\n",
      "WARNING:absl:<keras.layers.recurrent.LSTMCell object at 0x2c4577fa0> has the same name 'LSTMCell' as a built-in Keras object. Consider renaming <class 'keras.layers.recurrent.LSTMCell'> to avoid naming conflicts when loading with `tf.keras.models.load_model`. If renaming is not possible, pass the object in the `custom_objects` parameter of the load function.\n"
     ]
    },
    {
     "name": "stdout",
     "output_type": "stream",
     "text": [
      "73/73 [==============================] - 5s 74ms/step - loss: 0.5891 - accuracy: 0.0000e+00 - val_loss: 0.5771 - val_accuracy: 0.0000e+00 - lr: 1.0000e-04\n",
      "Epoch 6/10\n",
      "72/73 [============================>.] - ETA: 0s - loss: 0.5899 - accuracy: 0.0000e+00"
     ]
    },
    {
     "name": "stderr",
     "output_type": "stream",
     "text": [
      "WARNING:absl:Found untraced functions such as lstm_cell_1_layer_call_fn, lstm_cell_1_layer_call_and_return_conditional_losses, lstm_cell_1_layer_call_fn, lstm_cell_1_layer_call_and_return_conditional_losses, lstm_cell_1_layer_call_and_return_conditional_losses while saving (showing 5 of 5). These functions will not be directly callable after loading.\n"
     ]
    },
    {
     "name": "stdout",
     "output_type": "stream",
     "text": [
      "INFO:tensorflow:Assets written to: model_checkpoints/sentiment_analysis/assets\n"
     ]
    },
    {
     "name": "stderr",
     "output_type": "stream",
     "text": [
      "INFO:tensorflow:Assets written to: model_checkpoints/sentiment_analysis/assets\n",
      "WARNING:absl:<keras.layers.recurrent.LSTMCell object at 0x2c4577fa0> has the same name 'LSTMCell' as a built-in Keras object. Consider renaming <class 'keras.layers.recurrent.LSTMCell'> to avoid naming conflicts when loading with `tf.keras.models.load_model`. If renaming is not possible, pass the object in the `custom_objects` parameter of the load function.\n"
     ]
    },
    {
     "name": "stdout",
     "output_type": "stream",
     "text": [
      "73/73 [==============================] - 6s 77ms/step - loss: 0.5890 - accuracy: 0.0000e+00 - val_loss: 0.5769 - val_accuracy: 0.0000e+00 - lr: 1.0000e-04\n",
      "Epoch 7/10\n",
      "73/73 [==============================] - 3s 47ms/step - loss: 0.5889 - accuracy: 0.0000e+00 - val_loss: 0.5770 - val_accuracy: 0.0000e+00 - lr: 1.0000e-04\n",
      "Epoch 8/10\n",
      "73/73 [==============================] - ETA: 0s - loss: 0.5890 - accuracy: 0.0000e+00"
     ]
    },
    {
     "name": "stderr",
     "output_type": "stream",
     "text": [
      "WARNING:absl:Found untraced functions such as lstm_cell_1_layer_call_fn, lstm_cell_1_layer_call_and_return_conditional_losses, lstm_cell_1_layer_call_fn, lstm_cell_1_layer_call_and_return_conditional_losses, lstm_cell_1_layer_call_and_return_conditional_losses while saving (showing 5 of 5). These functions will not be directly callable after loading.\n"
     ]
    },
    {
     "name": "stdout",
     "output_type": "stream",
     "text": [
      "INFO:tensorflow:Assets written to: model_checkpoints/sentiment_analysis/assets\n"
     ]
    },
    {
     "name": "stderr",
     "output_type": "stream",
     "text": [
      "INFO:tensorflow:Assets written to: model_checkpoints/sentiment_analysis/assets\n",
      "WARNING:absl:<keras.layers.recurrent.LSTMCell object at 0x2c4577fa0> has the same name 'LSTMCell' as a built-in Keras object. Consider renaming <class 'keras.layers.recurrent.LSTMCell'> to avoid naming conflicts when loading with `tf.keras.models.load_model`. If renaming is not possible, pass the object in the `custom_objects` parameter of the load function.\n"
     ]
    },
    {
     "name": "stdout",
     "output_type": "stream",
     "text": [
      "73/73 [==============================] - 5s 75ms/step - loss: 0.5890 - accuracy: 0.0000e+00 - val_loss: 0.5769 - val_accuracy: 0.0000e+00 - lr: 1.0000e-04\n",
      "Epoch 9/10\n",
      "73/73 [==============================] - 4s 49ms/step - loss: 0.5889 - accuracy: 0.0000e+00 - val_loss: 0.5770 - val_accuracy: 0.0000e+00 - lr: 1.0000e-04\n",
      "Epoch 10/10\n",
      "73/73 [==============================] - 3s 48ms/step - loss: 0.5889 - accuracy: 0.0000e+00 - val_loss: 0.5770 - val_accuracy: 0.0000e+00 - lr: 1.0000e-04\n"
     ]
    },
    {
     "data": {
      "text/plain": [
       "<keras.callbacks.History at 0x2bf4d2400>"
      ]
     },
     "execution_count": 17,
     "metadata": {},
     "output_type": "execute_result"
    }
   ],
   "source": [
    "model.fit(train_dataset, epochs=10,\n",
    "callbacks = [\n",
    "    tf.keras.callbacks.ModelCheckpoint(monitor='val_loss', save_best_only=True, filepath = 'model_checkpoints/sentiment_analysis/'),\n",
    "    tf.keras.callbacks.EarlyStopping(monitor='val_loss', patience=5,),\n",
    "    tf.keras.callbacks.ReduceLROnPlateau(monitor='val_loss', patience=5)],\n",
    "    validation_data = test_dataset)"
   ]
  },
  {
   "cell_type": "code",
   "execution_count": null,
   "metadata": {},
   "outputs": [],
   "source": []
  },
  {
   "cell_type": "code",
   "execution_count": null,
   "metadata": {},
   "outputs": [],
   "source": []
  },
  {
   "cell_type": "code",
   "execution_count": null,
   "metadata": {},
   "outputs": [],
   "source": []
  },
  {
   "cell_type": "code",
   "execution_count": null,
   "metadata": {},
   "outputs": [],
   "source": []
  }
 ],
 "metadata": {
  "kernelspec": {
   "display_name": "Python 3.9.5 ('tensorflow_env')",
   "language": "python",
   "name": "python3"
  },
  "language_info": {
   "codemirror_mode": {
    "name": "ipython",
    "version": 3
   },
   "file_extension": ".py",
   "mimetype": "text/x-python",
   "name": "python",
   "nbconvert_exporter": "python",
   "pygments_lexer": "ipython3",
   "version": "3.9.5"
  },
  "orig_nbformat": 4,
  "vscode": {
   "interpreter": {
    "hash": "a28c134ff1a6bb75c84e4d545e22157e2f497d4c50d69357e1757bb45c55a245"
   }
  }
 },
 "nbformat": 4,
 "nbformat_minor": 2
}
