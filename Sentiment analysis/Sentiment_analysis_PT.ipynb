{
 "cells": [
  {
   "cell_type": "code",
   "execution_count": 1,
   "metadata": {},
   "outputs": [],
   "source": [
    "import pandas as pd\n",
    "import numpy as np\n",
    "from sklearn.model_selection import train_test_split\n",
    "import re\n",
    "import nltk\n",
    "from nltk.tokenize import word_tokenize\n",
    "from nltk.stem import PorterStemmer\n",
    "from nltk.corpus import stopwords\n",
    "from collections import defaultdict\n",
    "import torch"
   ]
  },
  {
   "cell_type": "markdown",
   "metadata": {},
   "source": [
    "# Data prep"
   ]
  },
  {
   "cell_type": "code",
   "execution_count": 3,
   "metadata": {},
   "outputs": [],
   "source": [
    "df = pd.read_csv(\"data/stock_data.csv\")\n",
    "X_train, X_test, y_train, y_test = train_test_split(df['Text'], df['Sentiment'], test_size=0.2, random_state=42, shuffle=True)\n",
    "\n",
    "stemmer = PorterStemmer()\n",
    "stopword_list = stopwords.words('english')\n",
    "\n",
    "def preprocess(text):\n",
    "    \n",
    "    # 1. Remove punctuations\n",
    "    text = re.sub('-',' ', text)\n",
    "    text = re.sub('[^A-Za-z\\s\\d]',' ', text)\n",
    "    # 2. To lower\n",
    "    text = text.lower()\n",
    "    # 3. Stemming\n",
    "    text = stemmer.stem(text)\n",
    "    # 4. Remove stop words\n",
    "    # 5. Return tokenized data\n",
    "    return_seq = [x for x in text.split() if x not in stopword_list]\n",
    "\n",
    "    if len(return_seq) < 50:\n",
    "        return_seq.extend(['']* (50 - len(return_seq)))\n",
    "    elif len(return_seq) > 50:\n",
    "        return_seq = return_seq[:50]\n",
    "\n",
    "    return return_seq\n",
    "\n",
    "X_train_preprocessed = X_train.apply(preprocess)\n",
    "X_test_preprocessed = X_test.apply(preprocess)\n",
    "\n",
    "unique_words = []\n",
    "for x in X_train_preprocessed:\n",
    "    unique_words.extend(x)\n",
    "unique_words = set(unique_words)\n",
    "\n",
    "word_to_num = defaultdict(lambda:9999)\n",
    "word_to_num.update(zip(unique_words, np.arange(len(unique_words))))\n",
    "num_to_word = dict(zip(list(word_to_num.values()), list(word_to_num.keys())))\n",
    "\n",
    "train_X = np.array([[word_to_num[word] for word in sent] for sent in X_train_preprocessed])\n",
    "test_X = np.array([[word_to_num[word] for word in sent] for sent in X_test_preprocessed])\n",
    "\n",
    "y_train = np.array(y_train).reshape(-1,1)\n",
    "y_test = np.array(y_test).reshape(-1,1)"
   ]
  },
  {
   "cell_type": "markdown",
   "metadata": {},
   "source": [
    "# PT data preparation"
   ]
  },
  {
   "cell_type": "code",
   "execution_count": 11,
   "metadata": {},
   "outputs": [],
   "source": [
    "train_data = torch.utils.data.TensorDataset(torch.from_numpy(train_X), torch.from_numpy(y_train))\n",
    "train_dataset = torch.utils.data.DataLoader(train_data, shuffle = True, batch_size=64)"
   ]
  },
  {
   "cell_type": "markdown",
   "metadata": {},
   "source": [
    "# Neural network"
   ]
  },
  {
   "cell_type": "markdown",
   "metadata": {},
   "source": [
    "## PT"
   ]
  },
  {
   "cell_type": "code",
   "execution_count": 96,
   "metadata": {},
   "outputs": [],
   "source": [
    "class torch_model(torch.nn.Module):\n",
    "\n",
    "    def __init__(self,\n",
    "    embedding_in_size : int = len(unique_words),\n",
    "    embedding_dim : int = 64,\n",
    "    lstm_units : int = 50,\n",
    "    fc1_units : int = 100,\n",
    "    fc2_units : int = 50\n",
    "    ):\n",
    "        super(torch_model, self).__init__()\n",
    "        \n",
    "        self.embedding_in_size = embedding_in_size\n",
    "        self.embedding_dim = embedding_dim\n",
    "        self.lstm_units = lstm_units\n",
    "        self.fc1_units = fc1_units\n",
    "        self.fc2_units = fc2_units\n",
    "\n",
    "        self.embedding = torch.nn.Embedding(num_embeddings=self.embedding_in_size, embedding_dim=self.embedding_dim,)\n",
    "        self.lstm = torch.nn.LSTM(batch_first = True, input_size = self.embedding_dim, num_layers=2, hidden_size = self.lstm_units, bidirectional = False,)\n",
    "        self.fc1 = torch.nn.Linear(in_features = self.lstm_units, out_features = self.fc1_units)\n",
    "        self.fc2 = torch.nn.Linear(in_features = self.fc1_units, out_features = self.fc2_units)\n",
    "        self.output = torch.nn.Linear(in_features=self.fc2_units, out_features=1)\n",
    "\n",
    "    def forward(self, x, hidden=None):\n",
    "\n",
    "        x = self.embedding(x)\n",
    "        \n",
    "        x, hidden = self.lstm(x, hidden)\n",
    "        x = x[:,-1]\n",
    "        \n",
    "        x = torch.nn.functional.leaky_relu(self.fc1(x))\n",
    "        x = torch.nn.functional.leaky_relu(self.fc2(x))\n",
    "        x = torch.sigmoid(self.output(x))\n",
    "\n",
    "        return x, hidden"
   ]
  },
  {
   "cell_type": "code",
   "execution_count": 97,
   "metadata": {},
   "outputs": [
    {
     "name": "stdout",
     "output_type": "stream",
     "text": [
      "Epoch: 0, loss: 48.60568195581436\n",
      "Epoch: 1, loss: 44.590212255716324\n",
      "Epoch: 2, loss: 43.01429033279419\n",
      "Epoch: 3, loss: 42.821065068244934\n",
      "Epoch: 4, loss: 43.31420338153839\n",
      "Epoch: 5, loss: 42.96724385023117\n",
      "Epoch: 6, loss: 42.92213958501816\n",
      "Epoch: 7, loss: 43.05576699972153\n",
      "Epoch: 8, loss: 42.87947353720665\n",
      "Epoch: 9, loss: 43.07330825924873\n"
     ]
    }
   ],
   "source": [
    "model = torch_model()\n",
    "\n",
    "optim = torch.optim.Adam(lr = 0.0001, params=model.parameters())\n",
    "\n",
    "epochs = 10\n",
    "\n",
    "for epoch in np.arange(epochs):\n",
    "\n",
    "    Loss=0\n",
    "\n",
    "    for i,data in enumerate(train_dataset, 0):\n",
    "\n",
    "        feats, target = data\n",
    "        optim.zero_grad()\n",
    "\n",
    "        y_p, hidden = model(feats)\n",
    "        \n",
    "        loss = torch.nn.functional.binary_cross_entropy(y_p.float(), target.float())\n",
    "\n",
    "        loss.backward()\n",
    "        optim.step()\n",
    "        Loss += loss.item()\n",
    "\n",
    "    print(f\"Epoch: {epoch}, loss: {Loss}\")"
   ]
  },
  {
   "cell_type": "code",
   "execution_count": null,
   "metadata": {},
   "outputs": [],
   "source": []
  },
  {
   "cell_type": "code",
   "execution_count": null,
   "metadata": {},
   "outputs": [],
   "source": []
  },
  {
   "cell_type": "code",
   "execution_count": null,
   "metadata": {},
   "outputs": [],
   "source": []
  },
  {
   "cell_type": "code",
   "execution_count": null,
   "metadata": {},
   "outputs": [],
   "source": []
  }
 ],
 "metadata": {
  "kernelspec": {
   "display_name": "Python 3.9.5 ('tensorflow_env')",
   "language": "python",
   "name": "python3"
  },
  "language_info": {
   "codemirror_mode": {
    "name": "ipython",
    "version": 3
   },
   "file_extension": ".py",
   "mimetype": "text/x-python",
   "name": "python",
   "nbconvert_exporter": "python",
   "pygments_lexer": "ipython3",
   "version": "3.9.5"
  },
  "orig_nbformat": 4,
  "vscode": {
   "interpreter": {
    "hash": "a28c134ff1a6bb75c84e4d545e22157e2f497d4c50d69357e1757bb45c55a245"
   }
  }
 },
 "nbformat": 4,
 "nbformat_minor": 2
}
